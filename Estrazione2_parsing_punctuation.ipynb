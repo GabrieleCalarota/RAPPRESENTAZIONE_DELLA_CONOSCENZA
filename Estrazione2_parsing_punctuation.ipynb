{
 "cells": [
  {
   "cell_type": "code",
   "execution_count": null,
   "metadata": {},
   "outputs": [],
   "source": [
    "TELEGRAM_BOT_TOKEN = ''\n",
    "TELEGRAM_CHAT_ID = ''"
   ]
  },
  {
   "cell_type": "code",
   "execution_count": null,
   "metadata": {},
   "outputs": [],
   "source": [
    "import gzip\n",
    "import pandas as pd\n",
    "import os\n",
    "import tarfile \n",
    "import zipfile\n",
    "import tensorflow as tf\n",
    "import time\n",
    "import string"
   ]
  },
  {
   "cell_type": "code",
   "execution_count": null,
   "metadata": {},
   "outputs": [],
   "source": [
    "base_dir = '.'\n",
    "dataset_folder = os.path.join(base_dir,'dataset_parsed')\n",
    "dataset_new_folder = os.path.join(base_dir, 'dataset_parsed_new')"
   ]
  },
  {
   "cell_type": "code",
   "execution_count": null,
   "metadata": {},
   "outputs": [],
   "source": [
    "def save_df_to_csv(df, filename):\n",
    "  df.to_csv(os.path.join(base_dir, filename))"
   ]
  },
  {
   "cell_type": "code",
   "execution_count": null,
   "metadata": {},
   "outputs": [],
   "source": [
    "def remove_punct(corpus_path):\n",
    "    corpus_path, dirs, files = next(os.walk(corpus_path))\n",
    "    \n",
    "    for f in files:\n",
    "        print(f\"{time.strftime('%H:%M:%S')} Current file: {f}\")\n",
    "        words_removed = 0\n",
    "        try:\n",
    "            data_path = os.sep.join([corpus_path, f])\n",
    "            document = pd.read_csv(data_path)\n",
    "            document.dropna(subset=['text'])\n",
    "            for index, row in document.iterrows():\n",
    "                # print(row['text'])\n",
    "                if isinstance(row['text'], str):\n",
    "                    words_removed += len(row['text'].split(' '))\n",
    "                    row['text'] = ' '.join([word for word in row['text'].split(' ') if not set(word).intersection(set(string.punctuation.replace('+', '').replace('-', '')))])\n",
    "                    words_removed -= len(row['text'].split(' '))\n",
    "                    document.at[index,'text'] = row['text']\n",
    "            print(f\"{time.strftime('%H:%M:%S')} saving {os.path.join(dataset_new_folder, f)}\")\n",
    "            save_df_to_csv(document, os.path.join(dataset_new_folder, f))\n",
    "            print(f\"{time.strftime('%H:%M:%S')} removed {words_removed} words\")\n",
    "        except Exception as e:\n",
    "            print(e)"
   ]
  },
  {
   "cell_type": "code",
   "execution_count": null,
   "metadata": {},
   "outputs": [],
   "source": [
    "remove_punct(dataset_folder)"
   ]
  },
  {
   "cell_type": "code",
   "execution_count": null,
   "metadata": {},
   "outputs": [],
   "source": [
    "def send_telegram_message(text):\n",
    "    if TELEGRAM_BOT_TOKEN and TELEGRAM_CHAT_ID:\n",
    "        !pip install -q python-telegram-bot\n",
    "        from telegram import Bot\n",
    "        bot = Bot(token=TELEGRAM_BOT_TOKEN)\n",
    "        bot.send_message(text=text, chat_id=TELEGRAM_CHAT_ID)\n",
    "send_telegram_message(\"Finito di rimuovere punteggiatura da dataset completo\")"
   ]
  },
  {
   "cell_type": "code",
   "execution_count": null,
   "metadata": {},
   "outputs": [],
   "source": [
    "from collections import Counter\n",
    "file_num = 0\n",
    "words_set = set()\n",
    "cnt = Counter()\n",
    "def calculate_file_num(corpus_path):\n",
    "    global file_num\n",
    "    corpus_path, dirs, files = next(os.walk(corpus_path))\n",
    "    \n",
    "    for f in files:\n",
    "        print(f)\n",
    "        try:\n",
    "            data_path = os.sep.join([corpus_path, f])\n",
    "            document = pd.read_csv(data_path)\n",
    "            document.dropna(subset=['text'])\n",
    "            file_num += len(document['text'])\n",
    "            for index, row in document.iterrows():\n",
    "                # print(row['text'])\n",
    "                if isinstance(row['text'], str):\n",
    "                    for word in row['text'].split(' '):\n",
    "                        words_set.add(word.lower())\n",
    "                        cnt[word.lower()] += 1\n",
    "            print(f\"{time.strftime('%H:%M:%S')} numero testi: {len(document['text'])}\")\n",
    "            print(f\"{time.strftime('%H:%M:%S')} lunghezza set parole: {len(words_set)}\")\n",
    "        except Exception as e:\n",
    "            print(e)"
   ]
  },
  {
   "cell_type": "code",
   "execution_count": null,
   "metadata": {},
   "outputs": [],
   "source": [
    "calculate_file_num(\"dataset_parsed_new\")"
   ]
  },
  {
   "cell_type": "code",
   "execution_count": null,
   "metadata": {},
   "outputs": [],
   "source": [
    "print(f\"numero testi: {file_num}\")\n",
    "print(f\"lunghezza set parole: {len(words_set)}\")\n",
    "print(cnt.most_common(50))\n",
    "for x,y in cnt.most_common(50):\n",
    "    print(f\"{x}: {y}\")"
   ]
  },
  {
   "cell_type": "code",
   "execution_count": null,
   "metadata": {},
   "outputs": [],
   "source": [
    "send_telegram_message(f\"Finito di salvare stat dataset:\\nnumero testi: {file_num}\\nlunghezza set parole: {len(words_set)}\\n{cnt.most_common(10)}\")"
   ]
  }
 ],
 "metadata": {
  "kernelspec": {
   "display_name": "Python 3",
   "language": "python",
   "name": "python3"
  },
  "language_info": {
   "codemirror_mode": {
    "name": "ipython",
    "version": 3
   },
   "file_extension": ".py",
   "mimetype": "text/x-python",
   "name": "python",
   "nbconvert_exporter": "python",
   "pygments_lexer": "ipython3",
   "version": "3.8.6"
  }
 },
 "nbformat": 4,
 "nbformat_minor": 4
}
